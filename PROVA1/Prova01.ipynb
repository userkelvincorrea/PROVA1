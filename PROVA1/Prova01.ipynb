{
 "cells": [
  {
   "cell_type": "code",
   "execution_count": 15,
   "id": "fa9813a4-18a2-4edc-ba9e-1e99274c778f",
   "metadata": {},
   "outputs": [],
   "source": [
    "class No:\n",
    "    def __init__(self, valor):\n",
    "        self.valor = valor \n",
    "        self.proximo = None\n",
    "\n",
    "class ListaEncadeada:\n",
    "    def __init__(self):\n",
    "        self.inicio = None \n",
    "        \n",
    "    def inserir(self, valor):\n",
    "        novo_no = No(valor)\n",
    "        if self.inicio is None:\n",
    "            self.inicio = novo_no \n",
    "        else: \n",
    "            atual = self.inicio\n",
    "            while atual.proximo:\n",
    "                atual = atual.proximo\n",
    "            atual.proximo = novo_no\n",
    "\n",
    "    def contar(self):\n",
    "        print(len(self.valor))"
   ]
  },
  {
   "cell_type": "code",
   "execution_count": 27,
   "id": "3f93f6f4-b86b-41ba-91a3-f966e8a9a159",
   "metadata": {},
   "outputs": [],
   "source": [
    "\n"
   ]
  },
  {
   "cell_type": "code",
   "execution_count": 29,
   "id": "47a4705a-ec56-43af-8571-5befc48bedb7",
   "metadata": {},
   "outputs": [
    {
     "ename": "TypeError",
     "evalue": "ListaEncadeada.inserir() missing 1 required positional argument: 'valor'",
     "output_type": "error",
     "traceback": [
      "\u001b[1;31m---------------------------------------------------------------------------\u001b[0m",
      "\u001b[1;31mTypeError\u001b[0m                                 Traceback (most recent call last)",
      "Cell \u001b[1;32mIn[29], line 1\u001b[0m\n\u001b[1;32m----> 1\u001b[0m lista\u001b[38;5;241m.\u001b[39minserir(\u001b[38;5;241m5\u001b[39m)\n",
      "\u001b[1;31mTypeError\u001b[0m: ListaEncadeada.inserir() missing 1 required positional argument: 'valor'"
     ]
    }
   ],
   "source": [
    "lista.inserir(5)"
   ]
  },
  {
   "cell_type": "code",
   "execution_count": null,
   "id": "ef79b247-1c09-4144-a851-69a91da1ec86",
   "metadata": {},
   "outputs": [],
   "source": []
  }
 ],
 "metadata": {
  "kernelspec": {
   "display_name": "Python [conda env:base] *",
   "language": "python",
   "name": "conda-base-py"
  },
  "language_info": {
   "codemirror_mode": {
    "name": "ipython",
    "version": 3
   },
   "file_extension": ".py",
   "mimetype": "text/x-python",
   "name": "python",
   "nbconvert_exporter": "python",
   "pygments_lexer": "ipython3",
   "version": "3.12.7"
  }
 },
 "nbformat": 4,
 "nbformat_minor": 5
}
